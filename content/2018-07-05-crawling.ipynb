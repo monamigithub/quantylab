{
 "cells": [
  {
   "cell_type": "markdown",
   "metadata": {},
   "source": [
    "# 네이버 금융에서 주식 종목의 일별 주가 크롤링하기\n",
    "## Crawling daily price data of a stock from Naver Finance"
   ]
  },
  {
   "cell_type": "markdown",
   "metadata": {},
   "source": [
    "> 대규모 크롤링은 문제가 될 수 있으니 주의하시길 바랍니다.\n"
   ]
  },
  {
   "cell_type": "markdown",
   "metadata": {},
   "source": [
    "네이버 금융에서 일별 주가는 [이 페이지 (https://finance.naver.com/item/sise_day.nhn?code=035420)](https://finance.naver.com/item/sise_day.nhn?code=035420)가 `<iframe>`으로 부착되어 있습니다.\n",
    "\n",
    "우리는 이 페이지를 크롤링하여 주식 종목의 일별 주가를 간편하게 가져올 수 있습니다."
   ]
  },
  {
   "cell_type": "markdown",
   "metadata": {},
   "source": [
    "여기서 사용하는 파이썬 라이브러리는 다음과 같습니다\n",
    "- [requests](http://docs.python-requests.org/en/master/): HTTP 라이브러리\n",
    "- [Beautiful Soup](https://www.crummy.com/software/BeautifulSoup/bs4/doc/): HTML,  XML 파싱 라이브러리\n",
    "- [pandas](https://pandas.pydata.org/): 자료구조 라이브러리\n",
    "- [tqdm](https://github.com/tqdm/tqdm): Progress 확인 라이브러리"
   ]
  },
  {
   "cell_type": "markdown",
   "metadata": {},
   "source": [
    "먼저 크롤링할 종목의 종목코드를 확인합니다. 여기서는 NAVER(035420) 종목의 일별 주가를 크롤링 해보겠습니다."
   ]
  },
  {
   "cell_type": "code",
   "execution_count": 1,
   "metadata": {},
   "outputs": [
    {
     "data": {
      "text/plain": [
       "'035420'"
      ]
     },
     "execution_count": 1,
     "metadata": {},
     "output_type": "execute_result"
    }
   ],
   "source": [
    "code = '035420'  # NAVER\n",
    "code"
   ]
  },
  {
   "cell_type": "markdown",
   "metadata": {},
   "source": [
    "이제 크롤링할 대상의 URL을 준비하고 requests 라이브러리를 사용하여 호출합니다."
   ]
  },
  {
   "cell_type": "code",
   "execution_count": 4,
   "metadata": {},
   "outputs": [
    {
     "data": {
      "text/plain": [
       "200"
      ]
     },
     "execution_count": 4,
     "metadata": {},
     "output_type": "execute_result"
    }
   ],
   "source": [
    "import requests\n",
    "url = 'http://finance.naver.com/item/sise_day.nhn?code={code}'.format(code=code)\n",
    "res = requests.get(url)\n",
    "res.encoding = 'utf-8'\n",
    "res.status_code"
   ]
  },
  {
   "cell_type": "markdown",
   "metadata": {},
   "source": [
    "아래 URL을 방문해 보면 \"일별 시세\" 테이블만 가져오게 됩니다."
   ]
  },
  {
   "cell_type": "code",
   "execution_count": 8,
   "metadata": {},
   "outputs": [
    {
     "data": {
      "text/plain": [
       "'http://finance.naver.com/item/sise_day.nhn?code=035420'"
      ]
     },
     "execution_count": 8,
     "metadata": {},
     "output_type": "execute_result"
    }
   ],
   "source": [
    "url"
   ]
  },
  {
   "cell_type": "markdown",
   "metadata": {},
   "source": [
    "![](img/2018-07-05-crawling/naverfin.PNG)"
   ]
  },
  {
   "cell_type": "markdown",
   "metadata": {},
   "source": [
    "대부분의 웹브라우저에 있는 \"소스보기\" 기능을 이용하여 이 페이지의 전체 HTML 코드를 확인해 보시기 바랍니다."
   ]
  },
  {
   "cell_type": "markdown",
   "metadata": {},
   "source": [
    "수신한 데이터로 BeautifulSoup의 인스턴스를 생성합니다. 이 때, 생성자의 두번째 인자로 `'lxml'`을 입력해 줍니다."
   ]
  },
  {
   "cell_type": "code",
   "execution_count": 7,
   "metadata": {},
   "outputs": [],
   "source": [
    "from bs4 import BeautifulSoup\n",
    "soap = BeautifulSoup(res.text, 'lxml')"
   ]
  },
  {
   "cell_type": "markdown",
   "metadata": {},
   "source": [
    "먼저 Pagination 영역을 가져와서 마지막 페이지 번호를 알아냅니다. 테이블 아래 부분에 Pagination 영역이 있는데, 이 또한 `<table>`로 구성되어 있습니다."
   ]
  },
  {
   "cell_type": "code",
   "execution_count": 14,
   "metadata": {},
   "outputs": [
    {
     "data": {
      "text/plain": [
       "389"
      ]
     },
     "execution_count": 14,
     "metadata": {},
     "output_type": "execute_result"
    }
   ],
   "source": [
    "el_table_navi = soap.find(\"table\", class_=\"Nnavi\")\n",
    "el_td_last = el_table_navi.find(\"td\", class_=\"pgRR\")\n",
    "pg_last = el_td_last.a.get('href').rsplit('&')[1]\n",
    "pg_last = pg_last.split('=')[1]\n",
    "pg_last = int(pg_last)\n",
    "pg_last"
   ]
  },
  {
   "cell_type": "markdown",
   "metadata": {},
   "source": [
    "마지막 페이지 번호 내에서 원하는 페이지의 테이블을 읽어올 수 있습니다. `parse_page()` 함수는 종목과 페이지 번호를 입력으로 받아서 일별 주가를 Pandas DataFrame 객체로 반환합니다."
   ]
  },
  {
   "cell_type": "code",
   "execution_count": 30,
   "metadata": {},
   "outputs": [],
   "source": [
    "import traceback\n",
    "import pandas as pd\n",
    "\n",
    "def parse_page(code, page):\n",
    "    try:\n",
    "        url = 'http://finance.naver.com/item/sise_day.nhn?code={code}&page={page}'.format(code=code, page=page)\n",
    "        res = requests.get(url)\n",
    "        _soap = BeautifulSoup(res.text, 'lxml')\n",
    "        _df = pd.read_html(str(_soap.find(\"table\")), header=0)[0]\n",
    "        _df = _df.dropna()\n",
    "        return _df\n",
    "    except Exception as e:\n",
    "        traceback.print_exc()\n",
    "    return None"
   ]
  },
  {
   "cell_type": "code",
   "execution_count": 31,
   "metadata": {},
   "outputs": [
    {
     "data": {
      "text/html": [
       "<div>\n",
       "<style scoped>\n",
       "    .dataframe tbody tr th:only-of-type {\n",
       "        vertical-align: middle;\n",
       "    }\n",
       "\n",
       "    .dataframe tbody tr th {\n",
       "        vertical-align: top;\n",
       "    }\n",
       "\n",
       "    .dataframe thead th {\n",
       "        text-align: right;\n",
       "    }\n",
       "</style>\n",
       "<table border=\"1\" class=\"dataframe\">\n",
       "  <thead>\n",
       "    <tr style=\"text-align: right;\">\n",
       "      <th></th>\n",
       "      <th>날짜</th>\n",
       "      <th>종가</th>\n",
       "      <th>전일비</th>\n",
       "      <th>시가</th>\n",
       "      <th>고가</th>\n",
       "      <th>저가</th>\n",
       "      <th>거래량</th>\n",
       "    </tr>\n",
       "  </thead>\n",
       "  <tbody>\n",
       "    <tr>\n",
       "      <th>1</th>\n",
       "      <td>2018.07.06</td>\n",
       "      <td>749000.0</td>\n",
       "      <td>16000.0</td>\n",
       "      <td>755000.0</td>\n",
       "      <td>758000.0</td>\n",
       "      <td>746000.0</td>\n",
       "      <td>77825.0</td>\n",
       "    </tr>\n",
       "    <tr>\n",
       "      <th>2</th>\n",
       "      <td>2018.07.05</td>\n",
       "      <td>765000.0</td>\n",
       "      <td>3000.0</td>\n",
       "      <td>756000.0</td>\n",
       "      <td>769000.0</td>\n",
       "      <td>756000.0</td>\n",
       "      <td>57319.0</td>\n",
       "    </tr>\n",
       "    <tr>\n",
       "      <th>3</th>\n",
       "      <td>2018.07.04</td>\n",
       "      <td>768000.0</td>\n",
       "      <td>21000.0</td>\n",
       "      <td>769000.0</td>\n",
       "      <td>779000.0</td>\n",
       "      <td>760000.0</td>\n",
       "      <td>179939.0</td>\n",
       "    </tr>\n",
       "    <tr>\n",
       "      <th>4</th>\n",
       "      <td>2018.07.03</td>\n",
       "      <td>747000.0</td>\n",
       "      <td>4000.0</td>\n",
       "      <td>759000.0</td>\n",
       "      <td>763000.0</td>\n",
       "      <td>743000.0</td>\n",
       "      <td>86305.0</td>\n",
       "    </tr>\n",
       "    <tr>\n",
       "      <th>5</th>\n",
       "      <td>2018.07.02</td>\n",
       "      <td>751000.0</td>\n",
       "      <td>12000.0</td>\n",
       "      <td>765000.0</td>\n",
       "      <td>765000.0</td>\n",
       "      <td>745000.0</td>\n",
       "      <td>107918.0</td>\n",
       "    </tr>\n",
       "    <tr>\n",
       "      <th>9</th>\n",
       "      <td>2018.06.29</td>\n",
       "      <td>763000.0</td>\n",
       "      <td>16000.0</td>\n",
       "      <td>750000.0</td>\n",
       "      <td>764000.0</td>\n",
       "      <td>748000.0</td>\n",
       "      <td>155915.0</td>\n",
       "    </tr>\n",
       "    <tr>\n",
       "      <th>10</th>\n",
       "      <td>2018.06.28</td>\n",
       "      <td>747000.0</td>\n",
       "      <td>8000.0</td>\n",
       "      <td>738000.0</td>\n",
       "      <td>751000.0</td>\n",
       "      <td>726000.0</td>\n",
       "      <td>136537.0</td>\n",
       "    </tr>\n",
       "    <tr>\n",
       "      <th>11</th>\n",
       "      <td>2018.06.27</td>\n",
       "      <td>739000.0</td>\n",
       "      <td>4000.0</td>\n",
       "      <td>747000.0</td>\n",
       "      <td>748000.0</td>\n",
       "      <td>739000.0</td>\n",
       "      <td>87276.0</td>\n",
       "    </tr>\n",
       "    <tr>\n",
       "      <th>12</th>\n",
       "      <td>2018.06.26</td>\n",
       "      <td>735000.0</td>\n",
       "      <td>13000.0</td>\n",
       "      <td>742000.0</td>\n",
       "      <td>746000.0</td>\n",
       "      <td>730000.0</td>\n",
       "      <td>107528.0</td>\n",
       "    </tr>\n",
       "    <tr>\n",
       "      <th>13</th>\n",
       "      <td>2018.06.25</td>\n",
       "      <td>748000.0</td>\n",
       "      <td>25000.0</td>\n",
       "      <td>728000.0</td>\n",
       "      <td>750000.0</td>\n",
       "      <td>727000.0</td>\n",
       "      <td>255266.0</td>\n",
       "    </tr>\n",
       "  </tbody>\n",
       "</table>\n",
       "</div>"
      ],
      "text/plain": [
       "            날짜        종가      전일비        시가        고가        저가       거래량\n",
       "1   2018.07.06  749000.0  16000.0  755000.0  758000.0  746000.0   77825.0\n",
       "2   2018.07.05  765000.0   3000.0  756000.0  769000.0  756000.0   57319.0\n",
       "3   2018.07.04  768000.0  21000.0  769000.0  779000.0  760000.0  179939.0\n",
       "4   2018.07.03  747000.0   4000.0  759000.0  763000.0  743000.0   86305.0\n",
       "5   2018.07.02  751000.0  12000.0  765000.0  765000.0  745000.0  107918.0\n",
       "9   2018.06.29  763000.0  16000.0  750000.0  764000.0  748000.0  155915.0\n",
       "10  2018.06.28  747000.0   8000.0  738000.0  751000.0  726000.0  136537.0\n",
       "11  2018.06.27  739000.0   4000.0  747000.0  748000.0  739000.0   87276.0\n",
       "12  2018.06.26  735000.0  13000.0  742000.0  746000.0  730000.0  107528.0\n",
       "13  2018.06.25  748000.0  25000.0  728000.0  750000.0  727000.0  255266.0"
      ]
     },
     "execution_count": 31,
     "metadata": {},
     "output_type": "execute_result"
    }
   ],
   "source": [
    "parse_page(code, 1)"
   ]
  },
  {
   "cell_type": "markdown",
   "metadata": {},
   "source": [
    "뒷 페이지로 갈수록 과거의 일별 주가를 가져올 수 있습니다. 이 데이터를 모두 가져올 필요는 없을 것이므로 여기서는 기준 일자 이후만 가져올 수 있도록 로직을 구현합니다."
   ]
  },
  {
   "cell_type": "code",
   "execution_count": 39,
   "metadata": {},
   "outputs": [
    {
     "data": {
      "text/plain": [
       "'2018.01.01'"
      ]
     },
     "execution_count": 39,
     "metadata": {},
     "output_type": "execute_result"
    }
   ],
   "source": [
    "import datetime\n",
    "str_datefrom = datetime.datetime.strftime(datetime.datetime(year=2018, month=1, day=1), '%Y.%m.%d')\n",
    "str_datefrom"
   ]
  },
  {
   "cell_type": "code",
   "execution_count": 50,
   "metadata": {},
   "outputs": [
    {
     "data": {
      "text/plain": [
       "'2018.07.08'"
      ]
     },
     "execution_count": 50,
     "metadata": {},
     "output_type": "execute_result"
    }
   ],
   "source": [
    "str_dateto = datetime.datetime.strftime(datetime.datetime.today(), '%Y.%m.%d')\n",
    "str_dateto"
   ]
  },
  {
   "cell_type": "code",
   "execution_count": 45,
   "metadata": {},
   "outputs": [],
   "source": [
    "df = None\n",
    "for page in range(1, pg_last+1):\n",
    "    _df = parse_page(code, page)\n",
    "    _df_filtered = _df[_df['날짜'] > str_datefrom]\n",
    "    if df is None:\n",
    "        df = _df_filtered\n",
    "    else:\n",
    "        df = pd.concat([df, _df_filtered])\n",
    "    if len(_df) > len(_df_filtered):\n",
    "        break"
   ]
  },
  {
   "cell_type": "code",
   "execution_count": 47,
   "metadata": {},
   "outputs": [
    {
     "data": {
      "text/html": [
       "<div>\n",
       "<style scoped>\n",
       "    .dataframe tbody tr th:only-of-type {\n",
       "        vertical-align: middle;\n",
       "    }\n",
       "\n",
       "    .dataframe tbody tr th {\n",
       "        vertical-align: top;\n",
       "    }\n",
       "\n",
       "    .dataframe thead th {\n",
       "        text-align: right;\n",
       "    }\n",
       "</style>\n",
       "<table border=\"1\" class=\"dataframe\">\n",
       "  <thead>\n",
       "    <tr style=\"text-align: right;\">\n",
       "      <th></th>\n",
       "      <th>날짜</th>\n",
       "      <th>종가</th>\n",
       "      <th>전일비</th>\n",
       "      <th>시가</th>\n",
       "      <th>고가</th>\n",
       "      <th>저가</th>\n",
       "      <th>거래량</th>\n",
       "    </tr>\n",
       "  </thead>\n",
       "  <tbody>\n",
       "    <tr>\n",
       "      <th>2</th>\n",
       "      <td>2018.01.08</td>\n",
       "      <td>950000.0</td>\n",
       "      <td>42000.0</td>\n",
       "      <td>915000.0</td>\n",
       "      <td>953000.0</td>\n",
       "      <td>908000.0</td>\n",
       "      <td>196338.0</td>\n",
       "    </tr>\n",
       "    <tr>\n",
       "      <th>3</th>\n",
       "      <td>2018.01.05</td>\n",
       "      <td>908000.0</td>\n",
       "      <td>15000.0</td>\n",
       "      <td>893000.0</td>\n",
       "      <td>918000.0</td>\n",
       "      <td>880000.0</td>\n",
       "      <td>136811.0</td>\n",
       "    </tr>\n",
       "    <tr>\n",
       "      <th>4</th>\n",
       "      <td>2018.01.04</td>\n",
       "      <td>893000.0</td>\n",
       "      <td>22000.0</td>\n",
       "      <td>879000.0</td>\n",
       "      <td>897000.0</td>\n",
       "      <td>873000.0</td>\n",
       "      <td>130112.0</td>\n",
       "    </tr>\n",
       "    <tr>\n",
       "      <th>5</th>\n",
       "      <td>2018.01.03</td>\n",
       "      <td>871000.0</td>\n",
       "      <td>14000.0</td>\n",
       "      <td>876000.0</td>\n",
       "      <td>884000.0</td>\n",
       "      <td>864000.0</td>\n",
       "      <td>84790.0</td>\n",
       "    </tr>\n",
       "    <tr>\n",
       "      <th>9</th>\n",
       "      <td>2018.01.02</td>\n",
       "      <td>885000.0</td>\n",
       "      <td>15000.0</td>\n",
       "      <td>871000.0</td>\n",
       "      <td>885000.0</td>\n",
       "      <td>870000.0</td>\n",
       "      <td>93587.0</td>\n",
       "    </tr>\n",
       "  </tbody>\n",
       "</table>\n",
       "</div>"
      ],
      "text/plain": [
       "           날짜        종가      전일비        시가        고가        저가       거래량\n",
       "2  2018.01.08  950000.0  42000.0  915000.0  953000.0  908000.0  196338.0\n",
       "3  2018.01.05  908000.0  15000.0  893000.0  918000.0  880000.0  136811.0\n",
       "4  2018.01.04  893000.0  22000.0  879000.0  897000.0  873000.0  130112.0\n",
       "5  2018.01.03  871000.0  14000.0  876000.0  884000.0  864000.0   84790.0\n",
       "9  2018.01.02  885000.0  15000.0  871000.0  885000.0  870000.0   93587.0"
      ]
     },
     "execution_count": 47,
     "metadata": {},
     "output_type": "execute_result"
    }
   ],
   "source": [
    "df.tail()"
   ]
  },
  {
   "cell_type": "markdown",
   "metadata": {},
   "source": [
    "이제 완성된 일별 주가 DataFrame 객체를 CSV 파일로 저장합니다. 먼저 저장할 경로를 준비합니다."
   ]
  },
  {
   "cell_type": "code",
   "execution_count": 51,
   "metadata": {},
   "outputs": [
    {
     "data": {
      "text/plain": [
       "'data/2018-07-05-crawling/035420_2018.01.01_2018.07.08.csv'"
      ]
     },
     "execution_count": 51,
     "metadata": {},
     "output_type": "execute_result"
    }
   ],
   "source": [
    "import os\n",
    "path_dir = 'data/2018-07-05-crawling'\n",
    "if not os.path.exists(path_dir):\n",
    "    os.makedirs(path_dir)\n",
    "path = os.path.join(path_dir, '{code}_{date_from}_{date_to}.csv'.format(code=code, date_from=str_datefrom, date_to=str_dateto))\n",
    "path"
   ]
  },
  {
   "cell_type": "markdown",
   "metadata": {},
   "source": [
    "그리고 Pandas DataFrame 함수인 `to_csv()`를 호출하여 CSV 파일을 생성합니다."
   ]
  },
  {
   "cell_type": "code",
   "execution_count": 54,
   "metadata": {},
   "outputs": [],
   "source": [
    "df.to_csv(path, index=False)"
   ]
  },
  {
   "cell_type": "code",
   "execution_count": null,
   "metadata": {},
   "outputs": [],
   "source": []
  }
 ],
 "metadata": {
  "kernelspec": {
   "display_name": "Python 3",
   "language": "python",
   "name": "python3"
  },
  "language_info": {
   "codemirror_mode": {
    "name": "ipython",
    "version": 3
   },
   "file_extension": ".py",
   "mimetype": "text/x-python",
   "name": "python",
   "nbconvert_exporter": "python",
   "pygments_lexer": "ipython3",
   "version": "3.6.5"
  }
 },
 "nbformat": 4,
 "nbformat_minor": 2
}
